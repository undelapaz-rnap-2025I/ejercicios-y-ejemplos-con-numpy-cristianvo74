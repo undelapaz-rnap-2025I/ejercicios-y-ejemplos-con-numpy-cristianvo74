{
  "cells": [
    {
      "cell_type": "markdown",
      "metadata": {
        "id": "z9dathS_lkMu"
      },
      "source": [
        "# Learning and practicing NumPy with examples and exercises"
      ]
    },
    {
      "cell_type": "code",
      "execution_count": 1,
      "metadata": {
        "id": "JrciqVNelazN"
      },
      "outputs": [],
      "source": [
        "import numpy as np"
      ]
    },
    {
      "cell_type": "code",
      "execution_count": 2,
      "metadata": {},
      "outputs": [
        {
          "name": "stdout",
          "output_type": "stream",
          "text": [
            "Third: 1\n",
            "Slice: [7 1 9]\n",
            "[3 7 1 9 5]\n",
            "[ 3  7  1 12  5]\n"
          ]
        }
      ],
      "source": [
        "arr = np.array([3, 7, 1, 9, 5])\n",
        "print(f\"Third: {arr[2]}\\nSlice: {arr[1:4]}\")\n",
        "\n",
        "#Change fourth element\n",
        "print(arr)\n",
        "arr[3] = 12\n",
        "print(arr)\n"
      ]
    },
    {
      "cell_type": "code",
      "execution_count": 3,
      "metadata": {},
      "outputs": [
        {
          "name": "stdout",
          "output_type": "stream",
          "text": [
            "Tensor: \n",
            "[[[ 1  2  3  4]\n",
            "  [ 5  6  7  8]\n",
            "  [ 9 10 11 12]]\n",
            "\n",
            " [[13 14 15 16]\n",
            "  [17 18 19 20]\n",
            "  [21 22 23 24]]\n",
            "\n",
            " [[25 26 27 28]\n",
            "  [29 30 31 32]\n",
            "  [33 34 35 36]]]\n",
            "Element (1, 0, 2): 15 \n",
            "\n",
            "Subtensor: \n",
            " [[13 14 15 16]\n",
            " [17 18 19 20]\n",
            " [21 22 23 24]] \n",
            "\n",
            "Subtensor: \n",
            " [[21 22 23 24]\n",
            " [33 34 35 36]]\n",
            "\n",
            "Element (2, 1, 3): 32\n",
            "\n",
            "Subtensor: \n",
            " [[13 14 15 16]\n",
            " [25 26 27 28]]\n"
          ]
        }
      ],
      "source": [
        "tensor = np.array(range(1,37)).reshape(3,3,4)\n",
        "print(f\"Tensor: \\n{tensor}\")\n",
        "print(f\"Element (1, 0, 2): {tensor[1,0,2]} \\n\")\n",
        "print(f\"Subtensor: \\n {tensor[1]} \\n\")\n",
        "print(f\"Subtensor: \\n {tensor[1:3,2,:]}\\n\")\n",
        "print(f\"Element (2, 1, 3): {tensor[2,1,3]}\\n\")\n",
        "print(f\"Subtensor: \\n {tensor[1:3,0, :]}\")\n"
      ]
    },
    {
      "cell_type": "code",
      "execution_count": 3,
      "metadata": {},
      "outputs": [
        {
          "name": "stdout",
          "output_type": "stream",
          "text": [
            "Average of 5.5\n"
          ]
        }
      ],
      "source": [
        "def calculate_average(nums: list) -> float:\n",
        "    arr = np.array(nums)\n",
        "    return np.mean(arr)\n",
        "numbers = list(range(1,11))\n",
        "print(f\"Average of {calculate_average(numbers)}\")"
      ]
    },
    {
      "cell_type": "code",
      "execution_count": 4,
      "metadata": {},
      "outputs": [
        {
          "name": "stdout",
          "output_type": "stream",
          "text": [
            "4\n"
          ]
        }
      ],
      "source": [
        "def find_power(base, exponent=2):\n",
        "    return np.pow(base, exponent)\n",
        "print(find_power(2))"
      ]
    },
    {
      "cell_type": "code",
      "execution_count": 4,
      "metadata": {},
      "outputs": [
        {
          "name": "stdout",
          "output_type": "stream",
          "text": [
            "Shape of X: (5, 2) \n",
            "Shape of y: (5, 1)\n",
            "Después de 10000 iteraciones:\n",
            "theta0 = 0.7000\n",
            "theta1 = 2.5000\n"
          ]
        }
      ],
      "source": [
        "X = np.array([1,2,3,4,5]).reshape(-1,1)\n",
        "y = np.array([3,6,8,11,13]).reshape(-1,1)\n",
        "\n",
        "#Bias term\n",
        "X = np.c_[np.ones(X.shape[0]), X]\n",
        "\n",
        "print(f\"Shape of X: {X.shape} \\nShape of y: {y.shape}\")\n",
        "\n",
        "theta = np.array([0.0, 0.0]).reshape(2,1)\n",
        "\n",
        "alpha = 0.01\n",
        "iterations = 10000\n",
        "m = len(y)\n",
        "for i in range(iterations):\n",
        "    grad = (1/m) * X.T @ (X@theta - y)\n",
        "    theta = theta - alpha*grad\n",
        "\n",
        "# Resultados\n",
        "print(f\"Después de {iterations} iteraciones:\")\n",
        "print(f\"theta0 = {theta[0, 0]:.4f}\")\n",
        "print(f\"theta1 = {theta[1, 0]:.4f}\")\n",
        "    "
      ]
    },
    {
      "cell_type": "code",
      "execution_count": null,
      "metadata": {},
      "outputs": [
        {
          "data": {
            "image/png": "[encoded data removed]",
            "text/plain": [
              "<Figure size 1000x600 with 1 Axes>"
            ]
          },
          "metadata": {},
          "output_type": "display_data"
        }
      ],
      "source": [
        "import matplotlib.pyplot as plt\n",
        "import seaborn as sns\n",
        "sns.set(style='whitegrid')\n",
        "plt.figure(figsize=(10, 6))\n",
        "plt.scatter(X[:, 1], y, color='blue', label='Datos')\n",
        "plt.plot(X[:, 1], X @ theta, color='red', label='Regresión Lineal')\n",
        "plt.title('Regresión Lineal')\n",
        "plt.xlabel('X')\n",
        "plt.ylabel('y')\n",
        "plt.legend()\n",
        "plt.show()\n"
      ]
    }
  ],
  "metadata": {
    "colab": {
      "provenance": []
    },
    "kernelspec": {
      "display_name": ".venv",
      "language": "python",
      "name": "python3"
    },
    "language_info": {
      "codemirror_mode": {
        "name": "ipython",
        "version": 3
      },
      "file_extension": ".py",
      "mimetype": "text/x-python",
      "name": "python",
      "nbconvert_exporter": "python",
      "pygments_lexer": "ipython3",
      "version": "3.10.12"
    }
  },
  "nbformat": 4,
  "nbformat_minor": 0
}
